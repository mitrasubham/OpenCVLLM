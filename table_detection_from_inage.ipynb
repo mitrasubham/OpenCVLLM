{
  "nbformat": 4,
  "nbformat_minor": 0,
  "metadata": {
    "colab": {
      "provenance": [],
      "authorship_tag": "ABX9TyMRNMjlbIws+jbXCEpmvhty",
      "include_colab_link": true
    },
    "kernelspec": {
      "name": "python3",
      "display_name": "Python 3"
    },
    "language_info": {
      "name": "python"
    }
  },
  "cells": [
    {
      "cell_type": "markdown",
      "metadata": {
        "id": "view-in-github",
        "colab_type": "text"
      },
      "source": [
        "<a href=\"https://colab.research.google.com/github/mitrasubham/OpenCVLLM/blob/main/table_detection_from_inage.ipynb\" target=\"_parent\"><img src=\"https://colab.research.google.com/assets/colab-badge.svg\" alt=\"Open In Colab\"/></a>"
      ]
    },
    {
      "cell_type": "code",
      "source": [
        "from google.colab.patches import cv2_imshow\n",
        "import pandas as pd\n",
        "import cv2\n",
        "import numpy as np"
      ],
      "metadata": {
        "id": "QLLc7JxM-R6J"
      },
      "execution_count": null,
      "outputs": []
    },
    {
      "cell_type": "code",
      "source": [
        "!pip install easyocr"
      ],
      "metadata": {
        "id": "6_kY_1R4-GKf"
      },
      "execution_count": null,
      "outputs": []
    },
    {
      "cell_type": "code",
      "source": [
        "import easyocr\n",
        "reader = easyocr.Reader(['th','en'])"
      ],
      "metadata": {
        "id": "4pOX3rQR-GHG"
      },
      "execution_count": null,
      "outputs": []
    },
    {
      "cell_type": "code",
      "execution_count": null,
      "metadata": {
        "id": "aq23pVjD-DLK"
      },
      "outputs": [],
      "source": [
        "def table_detection(img_path):\n",
        "    img = cv2.imread(img_path)\n",
        "    img_gray = cv2.cvtColor(img, cv2.COLOR_BGR2GRAY)\n",
        "    (thresh, img_bin) = cv2.threshold(img_gray, 128, 255, cv2.THRESH_BINARY | cv2.THRESH_OTSU)\n",
        "    img_bin = cv2.bitwise_not(img_bin)\n",
        "\n",
        "    kernel_length_v = (np.array(img_gray).shape[1])//120\n",
        "    vertical_kernel = cv2.getStructuringElement(cv2.MORPH_RECT, (1, kernel_length_v))\n",
        "    im_temp1 = cv2.erode(img_bin, vertical_kernel, iterations=3)\n",
        "    vertical_lines_img = cv2.dilate(im_temp1, vertical_kernel, iterations=3)\n",
        "\n",
        "    kernel_length_h = (np.array(img_gray).shape[1])//40\n",
        "    horizontal_kernel = cv2.getStructuringElement(cv2.MORPH_RECT, (kernel_length_h, 1))\n",
        "    im_temp2 = cv2.erode(img_bin, horizontal_kernel, iterations=3)\n",
        "    horizontal_lines_img = cv2.dilate(im_temp2, horizontal_kernel, iterations=3)\n",
        "\n",
        "    kernel = cv2.getStructuringElement(cv2.MORPH_RECT, (3, 3))\n",
        "    table_segment = cv2.addWeighted(vertical_lines_img, 0.5, horizontal_lines_img, 0.5, 0.0)\n",
        "    table_segment = cv2.erode(cv2.bitwise_not(table_segment), kernel, iterations=2)\n",
        "    thresh, table_segment = cv2.threshold(table_segment, 0, 255, cv2.THRESH_OTSU)\n",
        "\n",
        "    contours, hierarchy = cv2.findContours(table_segment, cv2.RETR_TREE, cv2.CHAIN_APPROX_SIMPLE)\n",
        "    count = 0\n",
        "\n",
        "    full_list=[]\n",
        "    row=[]\n",
        "    data=[]\n",
        "    first_iter=0\n",
        "    firsty=-1\n",
        "\n",
        "\n",
        "    for c in contours:\n",
        "        x, y, w, h = cv2.boundingRect(c)\n",
        "\n",
        "        if  h > 9 and h<100:\n",
        "            if first_iter==0:\n",
        "              first_iter=1\n",
        "              firsty=y\n",
        "            if firsty!=y:\n",
        "              row.reverse()\n",
        "              full_list.append(row)\n",
        "              row=[]\n",
        "              data=[]\n",
        "            print(x,y,w,h)\n",
        "            cropped = img[y:y + h, x:x + w]\n",
        "            cv2_imshow(cropped)\n",
        "            bounds = reader.readtext(cropped)\n",
        "\n",
        "            try:\n",
        "              data.append(bounds[0][1])\n",
        "              data.append(w)\n",
        "              row.append(data)\n",
        "              data=[]\n",
        "            except:\n",
        "              data.append(\"--\")\n",
        "              data.append(w)\n",
        "              row.append(data)\n",
        "              data=[]\n",
        "            firsty=y\n",
        "        cv2.rectangle(img,(x, y),(x + w, y + h),(0, 255, 0), 2)\n",
        "        #cv2_imshow(img)\n",
        "    full_list.reverse()\n",
        "    print(full_list)\n",
        "\n",
        "    new_data=[]\n",
        "    new_row=[]\n",
        "    for i in full_list:\n",
        "      for j in i:\n",
        "        new_row.append(j[0])\n",
        "      new_data.append(new_row)\n",
        "      new_row=[]\n",
        "    print(new_data)\n",
        "\n",
        "    # Convert list of lists into a DataFrame\n",
        "    df = pd.DataFrame(new_data)\n",
        "    df = df.map(lambda x: '' if pd.isna(x) else x)\n",
        "    from tabulate import tabulate\n",
        "    table = tabulate(df, headers='firstrow', tablefmt='grid')\n",
        "\n",
        "    # Print DataFrame\n",
        "    print(table)"
      ]
    },
    {
      "cell_type": "code",
      "source": [
        "table_detection(\"singleline.png\")"
      ],
      "metadata": {
        "id": "Jlv3ICfX-ZdE"
      },
      "execution_count": null,
      "outputs": []
    }
  ]
}